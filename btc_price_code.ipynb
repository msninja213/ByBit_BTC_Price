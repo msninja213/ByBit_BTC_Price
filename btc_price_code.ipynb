{
 "cells": [
  {
   "cell_type": "code",
   "execution_count": null,
   "metadata": {},
   "outputs": [],
   "source": [
    "%pip install ccxt\n",
    "%pip install pandas"
   ]
  },
  {
   "cell_type": "code",
   "execution_count": null,
   "metadata": {},
   "outputs": [],
   "source": [
    "import ccxt\n",
    "import pandas as pd\n",
    "import matplotlib.pyplot as plt\n",
    "import time\n",
    "from datetime import datetime, timedelta\n",
    "import datetime"
   ]
  },
  {
   "cell_type": "code",
   "execution_count": null,
   "metadata": {},
   "outputs": [],
   "source": [
    "def fetch_historical_data(exchange, symbol, timeframe, since):\n",
    "    ohlcv = exchange.fetch_ohlcv(symbol, timeframe, since)\n",
    "    df = pd.DataFrame(ohlcv, columns=['timestamp', 'open', 'high', 'low', 'close', 'volume'])\n",
    "    df['timestamp'] = pd.to_datetime(df['timestamp'], unit='ms')\n",
    "    df['date'] = df['timestamp'].dt.strftime('%m-%d-%y')\n",
    "    df = df.tail(90) #used to select only the last 90 days of entries into the DF\n",
    "    return df"
   ]
  },
  {
   "cell_type": "code",
   "execution_count": null,
   "metadata": {},
   "outputs": [],
   "source": [
    "#   api key stuff\n",
    "api_key = 'Z6bH9gXJ7UllNhBuj0'\n",
    "api_secret = 'gtajv8bMci1T3BIEmTMzgS4PQU5IECuFWqKz'\n",
    "exchange = ccxt.bybit({'apiKey': api_key, 'secret': api_secret})\n",
    "\n",
    "#   asset and timeframe\n",
    "symbol = 'BTCUSDT'\n",
    "timeframe = '5m'"
   ]
  },
  {
   "cell_type": "code",
   "execution_count": null,
   "metadata": {},
   "outputs": [],
   "source": [
    "# get today's date and subtract 90 days\n",
    "day_90 = datetime.datetime.today() - datetime.timedelta(days=90)\n",
    "since_timestamp = int(day_90.timestamp()) #convert 90 days to a timestamp \n",
    "\n",
    "#weekdays_data = pd.bdate_range(day_90, datetime.datetime.today())\n",
    "\n",
    "# Fetch historical dataa\n",
    "historical_data = exchange.fetch_ohlcv(symbol, timeframe, since_timestamp)\n",
    "\n",
    "# Convert data to DataFrame\n",
    "df = pd.DataFrame(historical_data, columns=['timestamp', 'open', 'high', 'low', 'close', 'volume'])\n",
    "df['timestamp'] = pd.to_datetime(df['timestamp'], unit='ms')\n",
    "\n",
    "# Filter data for weekdays and weekends\n",
    "weekdays_data = df[df['timestamp'].dt.weekday < 5]  # Monday to Friday\n",
    "weekends_data = df[df['timestamp'].dt.weekday >= 5]  # Saturday and Sunday\n",
    "\n",
    "print(weekdays_data)"
   ]
  },
  {
   "cell_type": "code",
   "execution_count": null,
   "metadata": {},
   "outputs": [],
   "source": [
    "# Plot for weekdays\n",
    "plt.figure(figsize=(12, 6))\n",
    "plt.plot(weekdays_data['timestamp'], weekdays_data['close'], label='BTC Price - Weekdays')\n",
    "plt.title('BTC Price - Weekdays')\n",
    "plt.xlabel('Timestamp')\n",
    "plt.ylabel('Price (USD)')\n",
    "plt.legend()\n",
    "plt.grid(True)\n",
    "plt.show()\n",
    "\n",
    "# Plot for weekends\n",
    "plt.figure(figsize=(12, 6))\n",
    "plt.plot(weekends_data['timestamp'], weekends_data['close'], label='BTC Price - Weekends', color='orange')\n",
    "plt.title('BTC Price - Weekends')\n",
    "plt.xlabel('Timestamp')\n",
    "plt.ylabel('Price (USD)')\n",
    "plt.legend()\n",
    "plt.grid(True)\n",
    "plt.show()"
   ]
  }
 ],
 "metadata": {
  "kernelspec": {
   "display_name": "Python 3",
   "language": "python",
   "name": "python3"
  },
  "language_info": {
   "name": "python",
   "version": "3.11.7"
  }
 },
 "nbformat": 4,
 "nbformat_minor": 2
}
